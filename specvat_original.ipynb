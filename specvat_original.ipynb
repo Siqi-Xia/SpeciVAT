{
  "cells": [
    {
      "cell_type": "markdown",
      "metadata": {
        "id": "093NqqDZjYLU"
      },
      "source": [
        "###Prepare parts"
      ]
    },
    {
      "cell_type": "code",
      "execution_count": 1,
      "metadata": {
        "colab": {
          "base_uri": "https://localhost:8080/"
        },
        "id": "c_dQn-ma6yT5",
        "outputId": "73a6991b-60fd-4995-afc5-8c630dadd860"
      },
      "outputs": [
        {
          "output_type": "stream",
          "name": "stdout",
          "text": [
            "Looking in indexes: https://pypi.org/simple, https://us-python.pkg.dev/colab-wheels/public/simple/\n",
            "Requirement already satisfied: numpy in /usr/local/lib/python3.8/dist-packages (1.21.6)\n",
            "Looking in indexes: https://pypi.org/simple, https://us-python.pkg.dev/colab-wheels/public/simple/\n",
            "Requirement already satisfied: networkx in /usr/local/lib/python3.8/dist-packages (3.0)\n",
            "Looking in indexes: https://pypi.org/simple, https://us-python.pkg.dev/colab-wheels/public/simple/\n",
            "Collecting fuzzy-c-means\n",
            "  Downloading fuzzy_c_means-1.6.3-py3-none-any.whl (9.1 kB)\n",
            "Collecting typer<0.4.0,>=0.3.2\n",
            "  Downloading typer-0.3.2-py3-none-any.whl (21 kB)\n",
            "Requirement already satisfied: numpy<2.0.0,>=1.21.1 in /usr/local/lib/python3.8/dist-packages (from fuzzy-c-means) (1.21.6)\n",
            "Requirement already satisfied: pydantic<2.0.0,>=1.8.2 in /usr/local/lib/python3.8/dist-packages (from fuzzy-c-means) (1.10.4)\n",
            "Requirement already satisfied: tabulate<0.9.0,>=0.8.9 in /usr/local/lib/python3.8/dist-packages (from fuzzy-c-means) (0.8.10)\n",
            "Requirement already satisfied: typing-extensions>=4.2.0 in /usr/local/lib/python3.8/dist-packages (from pydantic<2.0.0,>=1.8.2->fuzzy-c-means) (4.4.0)\n",
            "Requirement already satisfied: click<7.2.0,>=7.1.1 in /usr/local/lib/python3.8/dist-packages (from typer<0.4.0,>=0.3.2->fuzzy-c-means) (7.1.2)\n",
            "Installing collected packages: typer, fuzzy-c-means\n",
            "  Attempting uninstall: typer\n",
            "    Found existing installation: typer 0.7.0\n",
            "    Uninstalling typer-0.7.0:\n",
            "      Successfully uninstalled typer-0.7.0\n",
            "Successfully installed fuzzy-c-means-1.6.3 typer-0.3.2\n",
            "Looking in indexes: https://pypi.org/simple, https://us-python.pkg.dev/colab-wheels/public/simple/\n",
            "Collecting scipy==1.8.0\n",
            "  Downloading scipy-1.8.0-cp38-cp38-manylinux_2_17_x86_64.manylinux2014_x86_64.whl (41.6 MB)\n",
            "\u001b[2K     \u001b[90m━━━━━━━━━━━━━━━━━━━━━━━━━━━━━━━━━━━━━━━━\u001b[0m \u001b[32m41.6/41.6 MB\u001b[0m \u001b[31m15.3 MB/s\u001b[0m eta \u001b[36m0:00:00\u001b[0m\n",
            "\u001b[?25hRequirement already satisfied: numpy<1.25.0,>=1.17.3 in /usr/local/lib/python3.8/dist-packages (from scipy==1.8.0) (1.21.6)\n",
            "Installing collected packages: scipy\n",
            "  Attempting uninstall: scipy\n",
            "    Found existing installation: scipy 1.7.3\n",
            "    Uninstalling scipy-1.7.3:\n",
            "      Successfully uninstalled scipy-1.7.3\n",
            "Successfully installed scipy-1.8.0\n"
          ]
        }
      ],
      "source": [
        "# !python -m pip install --upgrade pip --user\n",
        "!pip install numpy\n",
        "!pip install networkx\n",
        "!pip install fuzzy-c-means\n",
        "!pip install scipy==1.8.0"
      ]
    },
    {
      "cell_type": "code",
      "execution_count": 2,
      "metadata": {
        "id": "TEcqW5_M93-A"
      },
      "outputs": [],
      "source": [
        "import numpy as np\n",
        "import os\n",
        "import networkx as nx\n",
        "from sklearn.preprocessing import LabelEncoder\n",
        "from sklearn.utils import shuffle\n",
        "from sklearn.metrics import classification_report\n",
        "from sklearn.cluster import KMeans\n",
        "\n",
        "\n",
        "from collections import Counter\n",
        "from sklearn.manifold import TSNE\n",
        "import matplotlib.pyplot as plt\n",
        "\n",
        "import numpy as np\n",
        "from sklearn import datasets\n",
        "# from pyclustertend import ivat\n",
        "from sklearn.preprocessing import scale"
      ]
    },
    {
      "cell_type": "markdown",
      "metadata": {
        "id": "eO_QnIPHElj8"
      },
      "source": [
        "### Data prepare - self defined"
      ]
    },
    {
      "cell_type": "code",
      "execution_count": 4,
      "metadata": {
        "colab": {
          "base_uri": "https://localhost:8080/",
          "height": 319
        },
        "id": "hHXLqvtaf9cM",
        "outputId": "cb33c3eb-30c7-4ad0-a0c5-221cc2e3ed71"
      },
      "outputs": [
        {
          "output_type": "display_data",
          "data": {
            "text/plain": [
              "<Figure size 432x288 with 1 Axes>"
            ],
            "image/png": "[encoded data removed]"
          },
          "metadata": {}
        }
      ],
      "source": [
        "\n",
        "G_t1 = nx.star_graph(5)\n",
        "\n",
        "G_t1.add_edge(1, 2)\n",
        "G_t1.add_edge(1, 3)\n",
        "G_t1.add_edge(2, 3)\n",
        "G_t1.add_edge(3, 4)\n",
        "G_t1.add_edge(2, 4)\n",
        "\n",
        "G_t1.add_edge(5, 6)\n",
        "G_t1.add_edge(5, 7)\n",
        "G_t1.add_edge(5, 8)\n",
        "G_t1.add_edge(6, 9)\n",
        "G_t1.add_edge(7, 9)\n",
        "G_t1.add_edge(7, 8)\n",
        "G_t1.add_edge(6, 7)\n",
        "G_t1.add_edge(9, 8)\n",
        "# illustrate graph\n",
        "nx.draw(G_t1, node_color = 'green', with_labels = True,\n",
        "        node_size = 200)"
      ]
    },
    {
      "cell_type": "markdown",
      "metadata": {
        "id": "tZDuJkyeEsll"
      },
      "source": [
        "### Graph SpecIVAT"
      ]
    },
    {
      "cell_type": "code",
      "execution_count": 14,
      "metadata": {
        "id": "prnXfCg2D8ki"
      },
      "outputs": [],
      "source": [
        "import numpy as np\n",
        "from sklearn.metrics import pairwise_distances\n",
        "import matplotlib.pyplot as plt\n",
        "from numpy import linalg\n",
        "import math\n",
        "from scipy.linalg import fractional_matrix_power\n",
        "from scipy.linalg import eigh\n",
        "\n",
        "\n",
        "def specvat(data,k,name,return_odm=False, figure_size=(10, 10)):\n",
        "\n",
        "    ordered_matrix, list_of_int = compute_ordered_dissimilarity_matrix(data,k)\n",
        "\n",
        "    _, ax = plt.subplots(figsize=figure_size)\n",
        "    ax.imshow(ordered_matrix, cmap='gray', vmin=0, vmax=np.max(ordered_matrix))\n",
        "\n",
        "    if return_odm is True:\n",
        "        return list_of_int,ordered_matrix\n",
        "\n",
        "\n",
        "def i_specvat(data,k,name,return_odm=True, figure_size=(10, 10)):\n",
        "\n",
        "    ordered_matrix,list_of_int = compute_ivat_ordered_dissimilarity_matrix(data,k)\n",
        "\n",
        "    _, ax = plt.subplots(figsize=figure_size)\n",
        "    ax.imshow(ordered_matrix, cmap='gray', vmin=0, vmax=np.max(ordered_matrix))\n",
        "    ax.figure.savefig(name +'_img.png')\n",
        "\n",
        "    return list_of_int,ordered_matrix\n",
        "\n",
        "def dissimilarity(G,k):\n",
        "\n",
        "    weight_matrix = np.zeros((G.number_of_nodes(),G.number_of_nodes()),dtype=float)\n",
        "    diag_matrix = np.zeros((G.number_of_nodes(),G.number_of_nodes()),dtype=float)\n",
        "    degree_matrix = np.zeros((G.number_of_nodes(),G.number_of_nodes()),dtype=float)\n",
        "    diag_mat = np.identity(G.number_of_nodes(),dtype=float)\n",
        "\n",
        "    lap_mat =diag_mat-nx.laplacian_matrix(G).A# \n",
        "\n",
        "    \n",
        "    eig_values, eig_vacs = np.linalg.eigh(lap_mat)\n",
        "    sort_values = np.argsort(eig_values)[::-1][:k]\n",
        "    \n",
        "    print(sort_values)\n",
        "    eigvec_stack = []\n",
        "\n",
        "    for i in range(k):\n",
        "        eigvec_stack.append(eig_vacs[:, sort_values[i]])\n",
        " \n",
        "    eigvec_stack = np.stack(eigvec_stack, axis=-1)\n",
        "    dist_matrix = np.zeros((G.number_of_nodes(),G.number_of_nodes()),dtype=float)\n",
        "    for m in range(G.number_of_nodes()):\n",
        "        for n in range(G.number_of_nodes()):\n",
        "            dist_matrix[m][n] = linalg.norm(eigvec_stack[m]-eigvec_stack[n])\n",
        "    dist_matrix = dist_matrix/np.max(dist_matrix)\n",
        "    # print(dist_matrix)\n",
        "    return dist_matrix\n",
        "\n",
        "\n",
        "\n",
        "def compute_ordered_dissimilarity_matrix(X,k):\n",
        "    \"\"\"The ordered dissimilarity matrix is used by visual assesement of tendency. It is a just a a reordering\n",
        "    of the dissimilarity matrix.\n",
        "\n",
        "\n",
        "    Parameters\n",
        "    ----------\n",
        "\n",
        "    X : matrix\n",
        "        numpy array\n",
        "\n",
        "    Return\n",
        "    -------\n",
        "\n",
        "    ODM : matrix\n",
        "        the ordered dissimalarity matrix .\n",
        "\n",
        "    \"\"\"\n",
        "\n",
        "    # Step 1 :\n",
        "\n",
        "    observation_path = []\n",
        "\n",
        "    # matrix_of_pairwise_distance = pairwise_distances(X)\n",
        "    matrix_of_pairwise_distance = dissimilarity(X,k)\n",
        "    # matrix_of_pairwise_distance = np.max(matrix_of_pairwise_distance)-matrix_of_pairwise_distance\n",
        "\n",
        "    list_of_int = np.zeros(matrix_of_pairwise_distance.shape[0], dtype=\"int\")\n",
        "\n",
        "    index_of_maximum_value = np.argmax(matrix_of_pairwise_distance)\n",
        "\n",
        "    column_index_of_maximum_value = index_of_maximum_value // matrix_of_pairwise_distance.shape[1]\n",
        "\n",
        "    list_of_int[0] = column_index_of_maximum_value\n",
        "    observation_path.append(column_index_of_maximum_value)\n",
        "\n",
        "\n",
        "    # list_of_int[0] = arr_new[0]#column_index_of_maximum_value\n",
        "    # observation_path.append(arr_new[0])#column_index_of_maximum_value)\n",
        "\n",
        "    K = np.linspace(0, matrix_of_pairwise_distance.shape[0] - 1, matrix_of_pairwise_distance.shape[0], dtype=\"int\")\n",
        "    J = np.delete(K,column_index_of_maximum_value)\n",
        "\n",
        "    # J = np.delete(K, arr_new[0])#column_index_of_maximum_value)\n",
        "\n",
        "    # Step 2 :\n",
        "\n",
        "    for r in range(1, matrix_of_pairwise_distance.shape[0]):\n",
        "    # for r in arr_new[1:]:\n",
        "\n",
        "        p, q = (-1, -1)\n",
        "\n",
        "        mini = np.max(matrix_of_pairwise_distance)\n",
        "\n",
        "        for candidate_p in observation_path:\n",
        "            for candidate_j in J:\n",
        "                if matrix_of_pairwise_distance[candidate_p, candidate_j] < mini:\n",
        "                    p = candidate_p\n",
        "                    q = candidate_j\n",
        "                    mini = matrix_of_pairwise_distance[p, q]\n",
        "\n",
        "        list_of_int[r] = q\n",
        "\n",
        "        observation_path.append(q)\n",
        "\n",
        "        ind_q = np.where(np.array(J) == q)[0][0]\n",
        "        J = np.delete(J, ind_q)\n",
        "\n",
        "    print(list_of_int)\n",
        "\n",
        "\n",
        "    # Step 3\n",
        "\n",
        "    ordered_matrix = np.zeros(matrix_of_pairwise_distance.shape)\n",
        "\n",
        "    for column_index_of_maximum_value in range(ordered_matrix.shape[0]):\n",
        "        for j in range(ordered_matrix.shape[1]):\n",
        "            ordered_matrix[column_index_of_maximum_value, j] = matrix_of_pairwise_distance[\n",
        "                list_of_int[column_index_of_maximum_value], list_of_int[j]]\n",
        "\n",
        "    # Step 4 :\n",
        "\n",
        "    return ordered_matrix, list_of_int\n",
        "\n",
        "\n",
        "\n",
        "\n",
        "def compute_ivat_ordered_dissimilarity_matrix(X,k):\n",
        "    \"\"\"The ordered dissimilarity matrix is used by ivat. It is a just a a reordering\n",
        "    of the dissimilarity matrix.\n",
        "\n",
        "\n",
        "    Parameters\n",
        "    ----------\n",
        "\n",
        "    X : matrix\n",
        "        numpy array\n",
        "\n",
        "    Return\n",
        "    -------\n",
        "\n",
        "    D_prim : matrix\n",
        "        the ordered dissimalarity matrix .\n",
        "\n",
        "    \"\"\"\n",
        "\n",
        "    ordered_matrix, list_of_int = compute_ordered_dissimilarity_matrix(X,k)\n",
        "    re_ordered_matrix = np.zeros((ordered_matrix.shape[0], ordered_matrix.shape[0]))\n",
        "    re_list = list_of_int.copy()\n",
        "    for r in range(1, ordered_matrix.shape[0]):\n",
        "        # Step 1 : find j for which D[r,j] is minimum and j in [1:r-1]\n",
        "\n",
        "        j = np.argmin(ordered_matrix[r, 0:r])\n",
        "\n",
        "        # Step 2 :\n",
        "\n",
        "        re_ordered_matrix[r, j] = ordered_matrix[r, j]\n",
        "        re_ordered_matrix[j, r] = ordered_matrix[r, j]\n",
        "\n",
        "        # Step 3 : pour c : 1,r-1 avec c !=j\n",
        "        c_tab = np.array(range(0, r))\n",
        "        c_tab = c_tab[c_tab != j]\n",
        "\n",
        "        for c in c_tab:\n",
        "            if re_ordered_matrix[j, c] > ordered_matrix[r, j]:\n",
        "                re_list[c] = list_of_int[c]\n",
        "            else:\n",
        "                re_list[c] = list_of_int[r]\n",
        "            re_ordered_matrix[r, c] = max(ordered_matrix[r, j], re_ordered_matrix[j, c])\n",
        "            re_ordered_matrix[c, r] = re_ordered_matrix[r, c]\n",
        "    print(list_of_int)\n",
        "    return re_ordered_matrix,list_of_int\n"
      ]
    },
    {
      "cell_type": "code",
      "execution_count": 15,
      "metadata": {
        "id": "9Ip_IpEeqllq",
        "colab": {
          "base_uri": "https://localhost:8080/",
          "height": 1000
        },
        "outputId": "279e33c8-b2f4-4eec-81ed-52690b3eb0eb"
      },
      "outputs": [
        {
          "output_type": "stream",
          "name": "stderr",
          "text": [
            "/usr/local/lib/python3.8/dist-packages/scipy/sparse/_base.py:742: VisibleDeprecationWarning: Please use `.todense()` instead\n",
            "  warn(np.VisibleDeprecationWarning(\n"
          ]
        },
        {
          "output_type": "stream",
          "name": "stdout",
          "text": [
            "[9 8]\n",
            "[4 3 1 2 0 5 6 7 8 9]\n",
            "[9 8]\n",
            "[4 3 1 2 0 5 6 7 8 9]\n",
            "[4 3 1 2 0 5 6 7 8 9]\n"
          ]
        },
        {
          "output_type": "display_data",
          "data": {
            "text/plain": [
              "<Figure size 720x720 with 1 Axes>"
            ],
            "image/png": "[encoded data removed]"
          },
          "metadata": {
            "needs_background": "light"
          }
        },
        {
          "output_type": "display_data",
          "data": {
            "text/plain": [
              "<Figure size 720x720 with 1 Axes>"
            ],
            "image/png": "[encoded data removed]"
          },
          "metadata": {
            "needs_background": "light"
          }
        }
      ],
      "source": [
        "\n",
        "t1_d_2 = t1_m_2 = specvat(G_t1,2,'G_t1')\n",
        "\n",
        "t1_d_2 = t1_m_2 = i_specvat(G_t1,2,'G_t1')"
      ]
    }
  ],
  "metadata": {
    "colab": {
      "collapsed_sections": [
        "093NqqDZjYLU",
        "OD0OiNuDEcy_",
        "eO_QnIPHElj8",
        "vnp_p9e4imdI"
      ],
      "provenance": []
    },
    "kernelspec": {
      "display_name": "Python 3",
      "name": "python3"
    },
    "language_info": {
      "name": "python"
    }
  },
  "nbformat": 4,
  "nbformat_minor": 0
}